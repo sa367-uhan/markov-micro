{
 "cells": [
  {
   "cell_type": "markdown",
   "metadata": {},
   "source": [
    "# Markov Micromanufacturing"
   ]
  },
  {
   "cell_type": "markdown",
   "metadata": {},
   "source": [
    "The Markov Micromanufacturing Company has 9 production jobs it needs to process in the next 24 hours. The company has 4 identical machines that run in parallel. Each of these 9 jobs must be run on one of these machines nonpreemptively: that is, once a job is started on a machine, it must stay on that machine until it is completed. The processing times of these jobs are given below:\n",
    "\n",
    "| job                     | 0 | 1 | 2 | 3 | 4 | 5 | 6 | 7 | 8 |\n",
    "|:------------------------|:--|:--|:--|:--|:--|:--|:--|:--|:--|\n",
    "| processing time (hours) | 7 | 7 | 6 | 6 | 5 | 5 | 4 | 4 | 4 |\n",
    "\n",
    "The company wants to minimize the makespan, or the completion time of the last job to finish processing.\n",
    "\n",
    "We formulated this problem as a dynamic program in class. \n",
    "\n",
    "* Solve this dynamic program. \n",
    "  - What is the minimum makespan?\n",
    "  - How should the jobs be assigned to machines to achieve this minimum makespan?\n",
    "\n",
    "_Hint._ We showed in class that LPT achieves a makespan of 15, so we know that we can't do worse than that. So, in your code, only create states that correspond to machine loads between 0 and 15 to keep your dynamic program relatively small.\n",
    "\n",
    "_Hint._ To get the maximum of a collection of numbers, you can use the `max()` function. For example:\n",
    "\n",
    "```python\n",
    "max(3, 0, -10, 5)\n",
    "```"
   ]
  },
  {
   "cell_type": "code",
   "execution_count": 1,
   "metadata": {},
   "outputs": [
    {
     "name": "stdout",
     "output_type": "stream",
     "text": [
      "Negative cycle? False\n",
      "Shortest path length: 12\n",
      "Shortest path: [(0, 0, 0, 0, 0), (1, 7, 0, 0, 0), (2, 7, 7, 0, 0), (3, 7, 7, 6, 0), (4, 7, 7, 12, 0), (5, 12, 7, 12, 0), (6, 12, 12, 12, 0), (7, 12, 12, 12, 4), (8, 12, 12, 12, 8), (9, 12, 12, 12, 12), 'end']\n"
     ]
    }
   ],
   "source": [
    "# Write your code here\n",
    "# Import networkx and bellmanford\n",
    "import networkx as nx\n",
    "import bellmanford as bf\n",
    "\n",
    "# Create variables for number of jobs and maximum load per machine\n",
    "N_JOBS = 9\n",
    "MAX_LOAD = 15\n",
    "\n",
    "# Create list for processing times\n",
    "time = [7, 7, 6, 6, 5, 5, 4, 4, 4]\n",
    "\n",
    "# Create empty graph\n",
    "G = nx.DiGraph()\n",
    "\n",
    "# Add stage-state nodes (t, n1, n2, n3, n4)\n",
    "#   t = stage, consider job t\n",
    "#   n1 = load on machine 1\n",
    "#   n2 = load on machine 2\n",
    "#   n3 = load on machine 3\n",
    "#   n4 = load on machine 4\n",
    "for t in range(0, N_JOBS + 1):\n",
    "    for n1 in range(0, MAX_LOAD + 1):\n",
    "            for n2 in range(0, MAX_LOAD + 1):\n",
    "                    for n3 in range(0, MAX_LOAD + 1):\n",
    "                            for n4 in range(0, MAX_LOAD + 1):\n",
    "                                G.add_node((t, n1, n2, n3, n4))\n",
    "\n",
    "# Add end node\n",
    "G.add_node(\"end\")\n",
    "\n",
    "# Add edges corresponding to adding job t on a machine\n",
    "for t in range(0, N_JOBS):\n",
    "    for n1 in range(0, MAX_LOAD + 1):\n",
    "            for n2 in range(0, MAX_LOAD + 1):\n",
    "                    for n3 in range(0, MAX_LOAD + 1):\n",
    "                            for n4 in range(0, MAX_LOAD + 1):\n",
    "                                \n",
    "                                # Add job t to machine 1\n",
    "                                G.add_edge((t, n1, n2, n3, n4), (t + 1, n1 + time[t], n2, n3, n4), \n",
    "                                           length=0)\n",
    "\n",
    "                                # Add job t to machine 2\n",
    "                                G.add_edge((t, n1, n2, n3, n4), (t + 1, n1, n2 + time[t], n3, n4), \n",
    "                                           length=0)\n",
    "\n",
    "\n",
    "                                # Add job t to machine 3\n",
    "                                G.add_edge((t, n1, n2, n3, n4), (t + 1, n1, n2, n3 + time[t], n4), \n",
    "                                           length=0)\n",
    "\n",
    "\n",
    "                                # Add job t to machine 4\n",
    "                                G.add_edge((t, n1, n2, n3, n4), (t + 1, n1, n2, n3, n4 + time[t]), \n",
    "                                           length=0)\n",
    "\n",
    "\n",
    "# Add edges from last stage to end node\n",
    "for n1 in range(0, MAX_LOAD + 1):\n",
    "        for n2 in range(0, MAX_LOAD + 1):\n",
    "                for n3 in range(0, MAX_LOAD + 1):\n",
    "                        for n4 in range(0, MAX_LOAD + 1):\n",
    "                            G.add_edge((N_JOBS, n1, n2, n3, n4), \"end\", length=max(n1, n2, n3, n4))\n",
    "\n",
    "# Solve the DP/shortest path problem using the Bellman-Ford algorithm\n",
    "length, nodes, negative_cycle = bf.bellman_ford(G, source=(0, 0, 0, 0, 0), target=\"end\", \n",
    "                                                weight=\"length\")\n",
    "\n",
    "print(\"Negative cycle? {0}\".format(negative_cycle))\n",
    "print(\"Shortest path length: {0}\".format(length))\n",
    "print(\"Shortest path: {0}\".format(nodes))"
   ]
  },
  {
   "cell_type": "markdown",
   "metadata": {},
   "source": [
    "<!-- Write your notes here. Double-click to edit. -->\n",
    "* The minimum makespan is 12.\n",
    "\n",
    "* To achieve this minimum makespan, we should put:\n",
    "    - job 0 on machine 3,\n",
    "    - job 1 on machine 2, \n",
    "    - job 2 on machine 1,\n",
    "    - job 3 on machine 1, \n",
    "    - job 4 on machine 3,\n",
    "    - job 5 on machine 2,\n",
    "    - job 6 on machine 4,\n",
    "    - job 7 on machine 4,\n",
    "    - job 8 on machine 4."
   ]
  }
 ],
 "metadata": {
  "kernelspec": {
   "display_name": "Python 3",
   "language": "python",
   "name": "python3"
  },
  "language_info": {
   "codemirror_mode": {
    "name": "ipython",
    "version": 3
   },
   "file_extension": ".py",
   "mimetype": "text/x-python",
   "name": "python",
   "nbconvert_exporter": "python",
   "pygments_lexer": "ipython3",
   "version": "3.7.6"
  }
 },
 "nbformat": 4,
 "nbformat_minor": 1
}
