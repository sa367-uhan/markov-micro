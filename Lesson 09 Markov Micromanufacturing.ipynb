{
 "cells": [
  {
   "cell_type": "markdown",
   "metadata": {
    "hide_cell": true
   },
   "source": [
    "<span class='note'>*Make me look good.* Click on the cell below and press <kbd>Ctrl</kbd>-<kbd>Enter</kbd>.</span>"
   ]
  },
  {
   "cell_type": "code",
   "execution_count": 1,
   "metadata": {
    "hide_cell": true
   },
   "outputs": [
    {
     "data": {
      "text/html": [
       "<link href='http://fonts.googleapis.com/css?family=Lora:400,700,400i,700i' rel='stylesheet'>\n",
       "<link href='https://fonts.googleapis.com/css?family=Lato:300,400,700,300i,400i,700i' rel='stylesheet'>\n",
       "<link href='https://fonts.googleapis.com/css?family=Inconsolata:400' rel='stylesheet'>\n",
       "<link rel=\"stylesheet\" href=\"http://maxcdn.bootstrapcdn.com/font-awesome/4.3.0/css/font-awesome.min.css\">\n",
       "<style>\n",
       "    h1, h2, h3, h4, h5 {\n",
       "        font-family: 'Lato', sans-serif;\n",
       "    }\n",
       "    h5 {\n",
       "        font-style: normal;\n",
       "    }\n",
       "    kbd {\n",
       "        font-family: Lato, serif;\n",
       "    }\n",
       "    .cite {\n",
       "        font-size: 85%;\n",
       "        text-align: right;\n",
       "        margin-top: 10px;\n",
       "    }\n",
       "    .note {\n",
       "        font-family: Lora, serif;\n",
       "        font-size: 10pt;\n",
       "        font-weight: 400;\n",
       "        margin-top: 0;\n",
       "        margin-bottom: 0;\n",
       "    }\n",
       "    h5.prehead {\n",
       "        font-family: Lato, serif;\n",
       "        font-style: normal;\n",
       "        font-size: 13pt;\n",
       "        font-weight: 300;\n",
       "        margin-bottom: 15px;\n",
       "        margin-top: 30px;\n",
       "    }\n",
       "    h5.lesson {\n",
       "        font-family: Lato, serif;\n",
       "        font-weight: 400;\n",
       "        font-size: 13pt;\n",
       "        font-style: normal;   \n",
       "        margin-top: 0px;\n",
       "        margin-bottom: 5px;\n",
       "    }\n",
       "    h1.lesson_title {\n",
       "        font-family: Lato, serif;\n",
       "        font-weight: 300;\n",
       "        font-size: 32pt;\n",
       "        line-height: 110%;\n",
       "        color:#CD2305;\n",
       "        margin-top: 0px;\n",
       "        margin-bottom: 15px;\n",
       "    }   \n",
       "    div.cell{\n",
       "        max-width: 960px;\n",
       "        margin-left: auto;\n",
       "        margin-right: auto;\n",
       "    }\n",
       "    div.text_cell_render {\n",
       "        font-family: Lora, serif;\n",
       "        line-height: 160%;\n",
       "        font-size: 11pt;\n",
       "    }\n",
       "    .rendered_html pre, .rendered_html code  {\n",
       "        font-family: Inconsolata, monospace !important;\n",
       "    }\n",
       "    div.CodeMirror, div.output_area pre, div.prompt {\n",
       "        font-family: Inconsolata, monospace !important;\n",
       "        font-size: 110%;\n",
       "    }\n",
       "    .rendered_html ul li {\n",
       "        margin-top: 0.75em;\n",
       "        margin-bottom: 0.75em; \n",
       "    }\n",
       "    .rendered_html ul li ul li {\n",
       "        margin-top: 0.5em;\n",
       "        margin-bottom: 0.5em; \n",
       "    }\n",
       "    .rred {\n",
       "        color: #a00000;\n",
       "    }\n",
       "</style>\n",
       "<script>\n",
       "    MathJax.Hub.Config({\n",
       "                        TeX: {\n",
       "                           extensions: [\"AMSmath.js\"]\n",
       "                           },\n",
       "                tex2jax: {\n",
       "                    inlineMath: [ ['$','$'], [\"\\\\(\",\"\\\\)\"] ],\n",
       "                    displayMath: [ ['$$','$$'], [\"\\\\[\",\"\\\\]\"] ]\n",
       "                },\n",
       "                displayAlign: 'center', // Change this to 'center' to center equations.\n",
       "                \"HTML-CSS\": {\n",
       "                    styles: {'.MathJax_Display': {\"margin\": \"0.75em 0\"}}\n",
       "                }\n",
       "        });\n",
       "</script>\n"
      ],
      "text/plain": [
       "<IPython.core.display.HTML object>"
      ]
     },
     "execution_count": 1,
     "metadata": {},
     "output_type": "execute_result"
    }
   ],
   "source": [
    "from IPython.core.display import HTML\n",
    "HTML(open('css/custom.css', 'r').read())"
   ]
  },
  {
   "cell_type": "markdown",
   "metadata": {
    "hide_cell": true
   },
   "source": [
    "<h5 class='prehead'>SA367 &middot; Mathematical Models for Decision Making &middot; Spring 2021 &middot; Uhan</h5>\n",
    "\n",
    "<h5 class='lesson'>Lesson 9.</h5>\n",
    "\n",
    "<h1 class='lesson_title'>Machine scheduling</h1>"
   ]
  },
  {
   "cell_type": "markdown",
   "metadata": {},
   "source": [
    "## Problems"
   ]
  },
  {
   "cell_type": "markdown",
   "metadata": {},
   "source": [
    "**Problem 1.**\n",
    "Solve the dynamic program we formulated for Example 1 using NetworkX. What is the minimum makespan? How should the jobs be assigned to machines to achieve this minimum makespan?\n",
    "\n",
    "_Hint._ Earlier in the lesson, we showed that LPT achieves a makespan of 15, so we know that we can't do worse than that. So, in your code, only create states that correspond to machine loads between 0 and 15 to keep your dynamic program relatively small.\n",
    "\n",
    "_Hint._ To get the maximum of a collection of numbers, you can use the `max()` function. For example:\n",
    "\n",
    "```python\n",
    "max(3, 0, -10, 5)\n",
    "```"
   ]
  },
  {
   "cell_type": "code",
   "execution_count": null,
   "metadata": {},
   "outputs": [],
   "source": []
  },
  {
   "cell_type": "code",
   "execution_count": 1,
   "metadata": {},
   "outputs": [
    {
     "name": "stdout",
     "output_type": "stream",
     "text": [
      "Negative cycle? False\n",
      "Shortest path length: 12\n",
      "Shortest path: [(0, 0, 0, 0, 0), (1, 7, 0, 0, 0), (2, 7, 7, 0, 0), (3, 7, 7, 6, 0), (4, 7, 7, 12, 0), (5, 12, 7, 12, 0), (6, 12, 12, 12, 0), (7, 12, 12, 12, 4), (8, 12, 12, 12, 8), (9, 12, 12, 12, 12), 'end']\n"
     ]
    }
   ],
   "source": [
    "# Solutions\n",
    "# Import networkx and bellmanford\n",
    "import networkx as nx\n",
    "import bellmanford as bf\n",
    "\n",
    "# Create variables for number of jobs and maximum load per machine\n",
    "N_JOBS = 9\n",
    "MAX_LOAD = 15\n",
    "\n",
    "# Create list for processing times\n",
    "time = [7, 7, 6, 6, 5, 5, 4, 4, 4]\n",
    "\n",
    "# Create empty graph\n",
    "G = nx.DiGraph()\n",
    "\n",
    "# Add stage-state nodes (t, n1, n2, n3, n4)\n",
    "#   t = stage, consider job t\n",
    "#   n1 = load on machine 1\n",
    "#   n2 = load on machine 2\n",
    "#   n3 = load on machine 3\n",
    "#   n4 = load on machine 4\n",
    "for t in range(0, N_JOBS + 1):\n",
    "    for n1 in range(0, MAX_LOAD + 1):\n",
    "            for n2 in range(0, MAX_LOAD + 1):\n",
    "                    for n3 in range(0, MAX_LOAD + 1):\n",
    "                            for n4 in range(0, MAX_LOAD + 1):\n",
    "                                G.add_node((t, n1, n2, n3, n4))\n",
    "\n",
    "# Add end node\n",
    "G.add_node(\"end\")\n",
    "\n",
    "# Add edges corresponding to adding job t on a machine\n",
    "for t in range(0, N_JOBS):\n",
    "    for n1 in range(0, MAX_LOAD + 1):\n",
    "            for n2 in range(0, MAX_LOAD + 1):\n",
    "                    for n3 in range(0, MAX_LOAD + 1):\n",
    "                            for n4 in range(0, MAX_LOAD + 1):\n",
    "                                \n",
    "                                # Add job t to machine 1\n",
    "                                G.add_edge((t, n1, n2, n3, n4), (t + 1, n1 + time[t], n2, n3, n4), \n",
    "                                           length=0)\n",
    "\n",
    "                                # Add job t to machine 2\n",
    "                                G.add_edge((t, n1, n2, n3, n4), (t + 1, n1, n2 + time[t], n3, n4), \n",
    "                                           length=0)\n",
    "\n",
    "\n",
    "                                # Add job t to machine 3\n",
    "                                G.add_edge((t, n1, n2, n3, n4), (t + 1, n1, n2, n3 + time[t], n4), \n",
    "                                           length=0)\n",
    "\n",
    "\n",
    "                                # Add job t to machine 4\n",
    "                                G.add_edge((t, n1, n2, n3, n4), (t + 1, n1, n2, n3, n4 + time[t]), \n",
    "                                           length=0)\n",
    "\n",
    "\n",
    "# Add edges from last stage to end node\n",
    "for n1 in range(0, MAX_LOAD + 1):\n",
    "        for n2 in range(0, MAX_LOAD + 1):\n",
    "                for n3 in range(0, MAX_LOAD + 1):\n",
    "                        for n4 in range(0, MAX_LOAD + 1):\n",
    "                            G.add_edge((N_JOBS, n1, n2, n3, n4), \"end\", length=max(n1, n2, n3, n4))\n",
    "\n",
    "# Solve the DP/shortest path problem using the Bellman-Ford algorithm\n",
    "length, nodes, negative_cycle = bf.bellman_ford(G, source=(0, 0, 0, 0, 0), target=\"end\", \n",
    "                                                weight=\"length\")\n",
    "\n",
    "print(\"Negative cycle? {0}\".format(negative_cycle))\n",
    "print(\"Shortest path length: {0}\".format(length))\n",
    "print(\"Shortest path: {0}\".format(nodes))"
   ]
  },
  {
   "cell_type": "markdown",
   "metadata": {},
   "source": [
    "_Write your notes here. Double-click to edit._"
   ]
  },
  {
   "cell_type": "markdown",
   "metadata": {},
   "source": [
    "_Solution._\n",
    "\n",
    "* The minimum makespan is 12.\n",
    "\n",
    "* To achieve this minimum makespan, we should put:\n",
    "    - job 0 on machine 3,\n",
    "    - job 1 on machine 2, \n",
    "    - job 2 on machine 1,\n",
    "    - job 3 on machine 1, \n",
    "    - job 4 on machine 3,\n",
    "    - job 5 on machine 2,\n",
    "    - job 6 on machine 4,\n",
    "    - job 7 on machine 4,\n",
    "    - job 8 on machine 4."
   ]
  }
 ],
 "metadata": {
  "kernelspec": {
   "display_name": "Python 3",
   "language": "python",
   "name": "python3"
  },
  "language_info": {
   "codemirror_mode": {
    "name": "ipython",
    "version": 3
   },
   "file_extension": ".py",
   "mimetype": "text/x-python",
   "name": "python",
   "nbconvert_exporter": "python",
   "pygments_lexer": "ipython3",
   "version": "3.7.6"
  }
 },
 "nbformat": 4,
 "nbformat_minor": 1
}
