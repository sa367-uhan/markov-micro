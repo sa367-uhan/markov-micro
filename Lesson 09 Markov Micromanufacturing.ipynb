{
 "cells": [
  {
   "cell_type": "markdown",
   "metadata": {
    "hide_cell": true
   },
   "source": [
    "<span class='note'>*Make me look good.* Click on the cell below and press <kbd>Ctrl</kbd>-<kbd>Enter</kbd>.</span>"
   ]
  },
  {
   "cell_type": "code",
   "execution_count": null,
   "metadata": {
    "hide_cell": true
   },
   "outputs": [],
   "source": [
    "from IPython.core.display import HTML\n",
    "HTML(open('css/custom.css', 'r').read())"
   ]
  },
  {
   "cell_type": "markdown",
   "metadata": {
    "hide_cell": true
   },
   "source": [
    "<h5 class='prehead'>SA367 &middot; Mathematical Models for Decision Making &middot; Spring 2021 &middot; Uhan</h5>\n",
    "\n",
    "<h5 class='lesson'>Lesson 9.</h5>\n",
    "\n",
    "<h1 class='lesson_title'>Machine scheduling</h1>"
   ]
  },
  {
   "cell_type": "markdown",
   "metadata": {},
   "source": [
    "## Problems"
   ]
  },
  {
   "cell_type": "markdown",
   "metadata": {},
   "source": [
    "**Problem 1.**\n",
    "Solve the dynamic program we formulated for Example 1 using NetworkX. What is the minimum makespan? How should the jobs be assigned to machines to achieve this minimum makespan?\n",
    "\n",
    "_Hint._ Earlier in the lesson, we showed that LPT achieves a makespan of 15, so we know that we can't do worse than that. So, in your code, only create states that correspond to machine loads between 0 and 15 to keep your dynamic program relatively small.\n",
    "\n",
    "_Hint._ To get the maximum of a collection of numbers, you can use the `max()` function. For example:\n",
    "\n",
    "```python\n",
    "max(3, 0, -10, 5)\n",
    "```"
   ]
  },
  {
   "cell_type": "code",
   "execution_count": null,
   "metadata": {},
   "outputs": [],
   "source": []
  },
  {
   "cell_type": "markdown",
   "metadata": {},
   "source": [
    "_Write your notes here. Double-click to edit._"
   ]
  }
 ],
 "metadata": {
  "kernelspec": {
   "display_name": "Python 3",
   "language": "python",
   "name": "python3"
  },
  "language_info": {
   "codemirror_mode": {
    "name": "ipython",
    "version": 3
   },
   "file_extension": ".py",
   "mimetype": "text/x-python",
   "name": "python",
   "nbconvert_exporter": "python",
   "pygments_lexer": "ipython3",
   "version": "3.7.6"
  }
 },
 "nbformat": 4,
 "nbformat_minor": 1
}
